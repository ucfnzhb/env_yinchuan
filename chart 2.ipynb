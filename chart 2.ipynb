{
 "cells": [
  {
   "cell_type": "markdown",
   "metadata": {},
   "source": [
    "# find out the file data \n"
   ]
  },
  {
   "cell_type": "code",
   "execution_count": 1,
   "metadata": {},
   "outputs": [],
   "source": [
    "import  pandas  as pd\n",
    "from pandas import DataFrame\n",
    "from pandas import Series,concat"
   ]
  },
  {
   "cell_type": "code",
   "execution_count": 2,
   "metadata": {},
   "outputs": [],
   "source": [
    "from openpyxl import load_workbook"
   ]
  },
  {
   "cell_type": "code",
   "execution_count": 3,
   "metadata": {},
   "outputs": [],
   "source": [
    "import os\n",
    "import xlrd"
   ]
  },
  {
   "cell_type": "code",
   "execution_count": 4,
   "metadata": {},
   "outputs": [],
   "source": [
    "import os\n",
    "\n",
    "dirname = r\"E:/宁夏二污普/最新数据/二污普导出数据/普查报表/银川市工业源报表-2743\"\n",
    "filename = \".xlsx\"\n",
    "\n",
    "result = []\n",
    "def search(dirname=dirname, filename=\"\"):\n",
    "    for item in os.listdir(dirname):\n",
    "        item_path = os.path.join(dirname, item)\n",
    "        if os.path.isdir(item_path):\n",
    "            search(item_path, filename)\n",
    "        elif os.path.isfile(item_path):\n",
    "            if filename in item:\n",
    "                global result\n",
    "                result.append(item_path)\n",
    "                #print(item_path+\";\")\n"
   ]
  },
  {
   "cell_type": "code",
   "execution_count": 5,
   "metadata": {},
   "outputs": [],
   "source": [
    "    search(dirname, filename)"
   ]
  },
  {
   "cell_type": "markdown",
   "metadata": {},
   "source": [
    "# final work !!!!"
   ]
  },
  {
   "cell_type": "code",
   "execution_count": 138,
   "metadata": {},
   "outputs": [],
   "source": [
    "import re"
   ]
  },
  {
   "cell_type": "code",
   "execution_count": 32,
   "metadata": {},
   "outputs": [
    {
     "name": "stdout",
     "output_type": "stream",
     "text": [
      "2189\n"
     ]
    }
   ],
   "source": [
    "for i in range(len(result)):\n",
    "    if result[i]=='E:/宁夏二污普/最新数据/二污普导出数据/普查报表/银川市工业源报表-2743\\贺兰县-462\\其他-70\\贺兰县常信刚伟橡胶制品厂.xlsx':\n",
    "        print(i)"
   ]
  },
  {
   "cell_type": "code",
   "execution_count": 236,
   "metadata": {},
   "outputs": [],
   "source": [
    "a=result[2150:2200]"
   ]
  },
  {
   "cell_type": "code",
   "execution_count": 237,
   "metadata": {},
   "outputs": [
    {
     "name": "stdout",
     "output_type": "stream",
     "text": [
      "50\n"
     ]
    }
   ],
   "source": [
    "print(len(a))"
   ]
  },
  {
   "cell_type": "code",
   "execution_count": 238,
   "metadata": {},
   "outputs": [
    {
     "name": "stdout",
     "output_type": "stream",
     "text": [
      "E:/宁夏二污普/最新数据/二污普导出数据/普查报表/银川市工业源报表-2743\\贺兰县-462\\其他-70\\贺兰县常信刚伟橡胶制品厂.xlsx\n"
     ]
    }
   ],
   "source": [
    "print(a[39])"
   ]
  },
  {
   "cell_type": "code",
   "execution_count": 239,
   "metadata": {},
   "outputs": [],
   "source": [
    "\n",
    "class Fib():                  #定义类Fib\n",
    "    def __init__(self):\n",
    "        self.changed={}         #给类一个字典属性，方便后续的存储\n",
    "    def __getitem__(self, key): #定性__getitem__函数，key为类Fib的键\n",
    "        return self.changed[key] #当按照键取值时，返回的值为changed[key]的值\n",
    "    def __setitem__(self,key,value):\n",
    "        self.changed[key]=value \n",
    "\n",
    "s=Fib()\n"
   ]
  },
  {
   "cell_type": "code",
   "execution_count": 240,
   "metadata": {},
   "outputs": [],
   "source": [
    "c=[]\n",
    "#检查表格是否完整，将不完整的存入list\n",
    "    \n",
    "for i in range (len(a)):\n",
    "        \n",
    "    s[i]=load_workbook(filename=a[i])\n",
    "    if len(s[i].sheetnames)<=1:\n",
    "        c.append(i)\n",
    "    elif s[i].sheetnames[1]!='T_BAS_G101_2':\n",
    "        c.append(i)\n",
    "            \n",
    "\n",
    "        #c[i]=s[i][s[i].sheetnames[0]][y].value\n"
   ]
  },
  {
   "cell_type": "code",
   "execution_count": 241,
   "metadata": {},
   "outputs": [
    {
     "name": "stdout",
     "output_type": "stream",
     "text": [
      "T_BAS_G101_2\n"
     ]
    }
   ],
   "source": [
    "print(s[1].sheetnames[1])"
   ]
  },
  {
   "cell_type": "code",
   "execution_count": 242,
   "metadata": {},
   "outputs": [
    {
     "name": "stdout",
     "output_type": "stream",
     "text": [
      "E:/宁夏二污普/最新数据/二污普导出数据/普查报表/银川市工业源报表-2743\\贺兰县-462\\其他-70\\贺兰县常信刚伟橡胶制品厂.xlsx\n"
     ]
    }
   ],
   "source": [
    "print(a[39])"
   ]
  },
  {
   "cell_type": "code",
   "execution_count": 243,
   "metadata": {},
   "outputs": [
    {
     "name": "stdout",
     "output_type": "stream",
     "text": [
      "[39]\n"
     ]
    }
   ],
   "source": [
    "print(c)"
   ]
  },
  {
   "cell_type": "code",
   "execution_count": 244,
   "metadata": {},
   "outputs": [],
   "source": [
    "#print out the name of the manuefactor whih dose not has sheet\n",
    "empty=[]\n",
    "for i in range(len(c)):\n",
    "    empty.append(a[c[i]][54:])\n",
    "    empty[i]=re.findall(r'[、\\（）\\^A-Z^a-z\\u4e00-\\u9fa5]+',empty[i])[0]\n",
    "    a.pop(c[i])\n",
    "    #print(a[c[i]])"
   ]
  },
  {
   "cell_type": "code",
   "execution_count": 245,
   "metadata": {},
   "outputs": [
    {
     "name": "stdout",
     "output_type": "stream",
     "text": [
      "['贺兰县常信刚伟橡胶制品厂']\n"
     ]
    }
   ],
   "source": [
    "print(empty)"
   ]
  },
  {
   "cell_type": "code",
   "execution_count": 246,
   "metadata": {},
   "outputs": [],
   "source": [
    "# find out the total column numbers to increase the correct rate of the specific value\n",
    "x=[]#2\n",
    "y=[]#3\n",
    "z=[]\n",
    "for i, e in enumerate (a):\n",
    "    s[i]=xlrd.open_workbook(filename=a[i])\n",
    "    if s[i].sheet_by_name(u'T_BAS_G101_2').nrows ==15:\n",
    "        x.append(e)\n",
    "        a.remove(e)\n",
    "    elif s[i].sheet_by_name(u'T_BAS_G101_2').nrows ==16:\n",
    "        y.append(e)\n",
    "        a.remove(e)\n",
    "    elif s[i].sheet_by_name(u'T_BAS_G101_2').nrows !=14:\n",
    "        z.append(e)\n",
    "        a.remove(e)\n",
    "        \n",
    "#row =worksheet.nrows#总行数\n",
    "\n"
   ]
  },
  {
   "cell_type": "code",
   "execution_count": 247,
   "metadata": {},
   "outputs": [
    {
     "name": "stdout",
     "output_type": "stream",
     "text": [
      "48\n"
     ]
    }
   ],
   "source": [
    "print(len(a))"
   ]
  },
  {
   "cell_type": "markdown",
   "metadata": {},
   "source": [
    "# 只有一个产品名称的公司"
   ]
  },
  {
   "cell_type": "code",
   "execution_count": 251,
   "metadata": {},
   "outputs": [],
   "source": [
    "def fun (c,y):\n",
    "    for i in range (len(a)):\n",
    "        s[i]=load_workbook(filename=a[i])\n",
    "        c.append(i)\n",
    "        c[i]=s[i][s[i].sheetnames[1]][y].value\n",
    "    return('finish')\n",
    "        "
   ]
  },
  {
   "cell_type": "code",
   "execution_count": 252,
   "metadata": {},
   "outputs": [],
   "source": [
    "普查小区代码=[]"
   ]
  },
  {
   "cell_type": "code",
   "execution_count": 253,
   "metadata": {},
   "outputs": [
    {
     "data": {
      "text/plain": [
       "'finish'"
      ]
     },
     "execution_count": 253,
     "metadata": {},
     "output_type": "execute_result"
    }
   ],
   "source": [
    "fun (普查小区代码,'D2')"
   ]
  },
  {
   "cell_type": "code",
   "execution_count": 254,
   "metadata": {},
   "outputs": [],
   "source": [
    "统一社会信用代码=[]"
   ]
  },
  {
   "cell_type": "code",
   "execution_count": 255,
   "metadata": {},
   "outputs": [
    {
     "data": {
      "text/plain": [
       "'finish'"
      ]
     },
     "execution_count": 255,
     "metadata": {},
     "output_type": "execute_result"
    }
   ],
   "source": [
    "fun (统一社会信用代码,'D3')"
   ]
  },
  {
   "cell_type": "code",
   "execution_count": 256,
   "metadata": {},
   "outputs": [],
   "source": [
    "组织机构代码=[]"
   ]
  },
  {
   "cell_type": "code",
   "execution_count": 257,
   "metadata": {},
   "outputs": [
    {
     "data": {
      "text/plain": [
       "'finish'"
      ]
     },
     "execution_count": 257,
     "metadata": {},
     "output_type": "execute_result"
    }
   ],
   "source": [
    "fun (组织机构代码,'D4')"
   ]
  },
  {
   "cell_type": "code",
   "execution_count": 258,
   "metadata": {},
   "outputs": [],
   "source": [
    "单位详细名称  =[]"
   ]
  },
  {
   "cell_type": "code",
   "execution_count": 259,
   "metadata": {},
   "outputs": [
    {
     "data": {
      "text/plain": [
       "'finish'"
      ]
     },
     "execution_count": 259,
     "metadata": {},
     "output_type": "execute_result"
    }
   ],
   "source": [
    "fun (单位详细名称,'D5')"
   ]
  },
  {
   "cell_type": "code",
   "execution_count": 260,
   "metadata": {},
   "outputs": [],
   "source": [
    "产品名称1=[]"
   ]
  },
  {
   "cell_type": "code",
   "execution_count": 261,
   "metadata": {},
   "outputs": [
    {
     "data": {
      "text/plain": [
       "'finish'"
      ]
     },
     "execution_count": 261,
     "metadata": {},
     "output_type": "execute_result"
    }
   ],
   "source": [
    "fun (产品名称1 ,'C8')"
   ]
  },
  {
   "cell_type": "code",
   "execution_count": 262,
   "metadata": {},
   "outputs": [],
   "source": [
    "产品代码1=[]"
   ]
  },
  {
   "cell_type": "code",
   "execution_count": 263,
   "metadata": {},
   "outputs": [
    {
     "data": {
      "text/plain": [
       "'finish'"
      ]
     },
     "execution_count": 263,
     "metadata": {},
     "output_type": "execute_result"
    }
   ],
   "source": [
    "fun (产品代码1,'D8')"
   ]
  },
  {
   "cell_type": "code",
   "execution_count": 264,
   "metadata": {},
   "outputs": [],
   "source": [
    "生产工艺名称1=[] "
   ]
  },
  {
   "cell_type": "code",
   "execution_count": 265,
   "metadata": {},
   "outputs": [
    {
     "data": {
      "text/plain": [
       "'finish'"
      ]
     },
     "execution_count": 265,
     "metadata": {},
     "output_type": "execute_result"
    }
   ],
   "source": [
    "fun (生产工艺名称1 ,'E8')"
   ]
  },
  {
   "cell_type": "code",
   "execution_count": 266,
   "metadata": {},
   "outputs": [],
   "source": [
    "生产工艺代码1=[]"
   ]
  },
  {
   "cell_type": "code",
   "execution_count": 267,
   "metadata": {},
   "outputs": [
    {
     "data": {
      "text/plain": [
       "'finish'"
      ]
     },
     "execution_count": 267,
     "metadata": {},
     "output_type": "execute_result"
    }
   ],
   "source": [
    "fun (生产工艺代码1,'F8')"
   ]
  },
  {
   "cell_type": "code",
   "execution_count": 268,
   "metadata": {},
   "outputs": [],
   "source": [
    "计量单位1=[]"
   ]
  },
  {
   "cell_type": "code",
   "execution_count": 269,
   "metadata": {},
   "outputs": [
    {
     "data": {
      "text/plain": [
       "'finish'"
      ]
     },
     "execution_count": 269,
     "metadata": {},
     "output_type": "execute_result"
    }
   ],
   "source": [
    "fun (计量单位1,'G8')"
   ]
  },
  {
   "cell_type": "code",
   "execution_count": 270,
   "metadata": {},
   "outputs": [],
   "source": [
    "生产能力1=[]"
   ]
  },
  {
   "cell_type": "code",
   "execution_count": 271,
   "metadata": {},
   "outputs": [
    {
     "data": {
      "text/plain": [
       "'finish'"
      ]
     },
     "execution_count": 271,
     "metadata": {},
     "output_type": "execute_result"
    }
   ],
   "source": [
    "fun (生产能力1,'H8')"
   ]
  },
  {
   "cell_type": "code",
   "execution_count": 272,
   "metadata": {},
   "outputs": [],
   "source": [
    "实际产量1=[] "
   ]
  },
  {
   "cell_type": "code",
   "execution_count": 273,
   "metadata": {},
   "outputs": [
    {
     "data": {
      "text/plain": [
       "'finish'"
      ]
     },
     "execution_count": 273,
     "metadata": {},
     "output_type": "execute_result"
    }
   ],
   "source": [
    "fun (实际产量1,'I8')"
   ]
  },
  {
   "cell_type": "code",
   "execution_count": 274,
   "metadata": {},
   "outputs": [],
   "source": [
    "单位负责人=[]"
   ]
  },
  {
   "cell_type": "code",
   "execution_count": 275,
   "metadata": {},
   "outputs": [
    {
     "data": {
      "text/plain": [
       "'finish'"
      ]
     },
     "execution_count": 275,
     "metadata": {},
     "output_type": "execute_result"
    }
   ],
   "source": [
    "fun (单位负责人,'C9')"
   ]
  },
  {
   "cell_type": "code",
   "execution_count": 276,
   "metadata": {},
   "outputs": [],
   "source": [
    "审核人=[]"
   ]
  },
  {
   "cell_type": "code",
   "execution_count": 277,
   "metadata": {},
   "outputs": [
    {
     "data": {
      "text/plain": [
       "'finish'"
      ]
     },
     "execution_count": 277,
     "metadata": {},
     "output_type": "execute_result"
    }
   ],
   "source": [
    "fun (审核人,'E9')"
   ]
  },
  {
   "cell_type": "code",
   "execution_count": 281,
   "metadata": {},
   "outputs": [],
   "source": [
    "填表人=[]"
   ]
  },
  {
   "cell_type": "code",
   "execution_count": 282,
   "metadata": {},
   "outputs": [
    {
     "data": {
      "text/plain": [
       "'finish'"
      ]
     },
     "execution_count": 282,
     "metadata": {},
     "output_type": "execute_result"
    }
   ],
   "source": [
    "fun (填表人,'G9')"
   ]
  },
  {
   "cell_type": "code",
   "execution_count": 283,
   "metadata": {},
   "outputs": [],
   "source": [
    "报出日期=[]"
   ]
  },
  {
   "cell_type": "code",
   "execution_count": 284,
   "metadata": {},
   "outputs": [
    {
     "data": {
      "text/plain": [
       "'finish'"
      ]
     },
     "execution_count": 284,
     "metadata": {},
     "output_type": "execute_result"
    }
   ],
   "source": [
    "fun (报出日期,'I9')"
   ]
  },
  {
   "cell_type": "code",
   "execution_count": 291,
   "metadata": {},
   "outputs": [],
   "source": [
    "finaldf_100={'普查小区代码':普查小区代码,'统一社会信用代码':统一社会信用代码,'组织机构代码':组织机构代码,\n",
    "             '单位详细名称':单位详细名称,'产品名称1':产品名称1,'产品代码1':产品代码1,'生产工艺名称1':生产工艺名称1,\n",
    "             '生产工艺代码1':生产工艺代码1,'计量单位1':计量单位1,'生产能力1':生产能力1,'实际产量1':实际产量1,\n",
    "             '单位负责人':单位负责人,'审核人':审核人,'填表人':填表人,'报出日期':报出日期}"
   ]
  },
  {
   "cell_type": "code",
   "execution_count": 292,
   "metadata": {},
   "outputs": [],
   "source": [
    "f_100=DataFrame(finaldf_100)"
   ]
  },
  {
   "cell_type": "code",
   "execution_count": 293,
   "metadata": {},
   "outputs": [],
   "source": [
    "f_100.to_csv('E:/cleandata/test2.csv',encoding='utf-8-sig')"
   ]
  },
  {
   "cell_type": "markdown",
   "metadata": {},
   "source": [
    "# 检查这一组数据中的产品名称个数大于1的公司"
   ]
  },
  {
   "cell_type": "code",
   "execution_count": 298,
   "metadata": {},
   "outputs": [
    {
     "name": "stdout",
     "output_type": "stream",
     "text": [
      "两个产品名称: 0    三个产品名称: 1   多个产品名称: 0\n"
     ]
    }
   ],
   "source": [
    "print('两个产品名称:',len(x),'   三个产品名称:', len(y), '  多个产品名称:', len(z))"
   ]
  },
  {
   "cell_type": "code",
   "execution_count": null,
   "metadata": {},
   "outputs": [],
   "source": [
    "for i in z:"
   ]
  },
  {
   "cell_type": "markdown",
   "metadata": {},
   "source": [
    "# 有两个产品名称的公司"
   ]
  },
  {
   "cell_type": "code",
   "execution_count": null,
   "metadata": {},
   "outputs": [],
   "source": [
    "def fun (c,y):\n",
    "    for i in range (len(x)):\n",
    "        s[i]=load_workbook(filename=x[i])\n",
    "        c.append(i)\n",
    "        c[i]=s[i][s[i].sheetnames[1]][y].value\n",
    "    return('finish')\n",
    "        "
   ]
  },
  {
   "cell_type": "markdown",
   "metadata": {},
   "source": [
    "# 有三个产品名称的公司"
   ]
  },
  {
   "cell_type": "code",
   "execution_count": 299,
   "metadata": {},
   "outputs": [],
   "source": [
    "def fun (c,b):\n",
    "    for i in range (len(y)):\n",
    "        s[i]=load_workbook(filename=y[i])\n",
    "        c.append(i)\n",
    "        c[i]=s[i][s[i].sheetnames[1]][b].value\n",
    "    return('finish')\n",
    "        "
   ]
  },
  {
   "cell_type": "code",
   "execution_count": 300,
   "metadata": {},
   "outputs": [],
   "source": [
    "填表人=[]"
   ]
  },
  {
   "cell_type": "code",
   "execution_count": 301,
   "metadata": {},
   "outputs": [
    {
     "data": {
      "text/plain": [
       "'finish'"
      ]
     },
     "execution_count": 301,
     "metadata": {},
     "output_type": "execute_result"
    }
   ],
   "source": [
    "fun (填表人,'G9')"
   ]
  },
  {
   "cell_type": "code",
   "execution_count": 303,
   "metadata": {},
   "outputs": [
    {
     "name": "stdout",
     "output_type": "stream",
     "text": [
      "1\n"
     ]
    }
   ],
   "source": [
    "print(len(填表人))"
   ]
  },
  {
   "cell_type": "code",
   "execution_count": null,
   "metadata": {},
   "outputs": [],
   "source": [
    "纬度_分=[]"
   ]
  },
  {
   "cell_type": "code",
   "execution_count": null,
   "metadata": {},
   "outputs": [],
   "source": [
    "fun (纬度_分,'F19')"
   ]
  },
  {
   "cell_type": "code",
   "execution_count": null,
   "metadata": {},
   "outputs": [],
   "source": [
    "纬度_秒=[]"
   ]
  },
  {
   "cell_type": "code",
   "execution_count": null,
   "metadata": {},
   "outputs": [],
   "source": [
    "fun (纬度_秒,'H19')"
   ]
  },
  {
   "cell_type": "code",
   "execution_count": null,
   "metadata": {},
   "outputs": [],
   "source": [
    "企业规模=[]"
   ]
  },
  {
   "cell_type": "code",
   "execution_count": null,
   "metadata": {},
   "outputs": [],
   "source": [
    "fun (企业规模,'C20')"
   ]
  },
  {
   "cell_type": "code",
   "execution_count": null,
   "metadata": {},
   "outputs": [],
   "source": [
    "z=[]"
   ]
  },
  {
   "cell_type": "code",
   "execution_count": null,
   "metadata": {},
   "outputs": [],
   "source": [
    "fun (z,'C21')"
   ]
  },
  {
   "cell_type": "code",
   "execution_count": null,
   "metadata": {},
   "outputs": [],
   "source": [
    "y=[]"
   ]
  },
  {
   "cell_type": "code",
   "execution_count": null,
   "metadata": {},
   "outputs": [],
   "source": [
    "fun (y,'C22')"
   ]
  },
  {
   "cell_type": "code",
   "execution_count": null,
   "metadata": {},
   "outputs": [],
   "source": [
    "m=[]"
   ]
  },
  {
   "cell_type": "code",
   "execution_count": null,
   "metadata": {},
   "outputs": [],
   "source": [
    "fun (m,'F22')"
   ]
  },
  {
   "cell_type": "code",
   "execution_count": null,
   "metadata": {},
   "outputs": [],
   "source": [
    "联系人=[]"
   ]
  },
  {
   "cell_type": "code",
   "execution_count": null,
   "metadata": {},
   "outputs": [],
   "source": [
    "fun (联系人,'D23')"
   ]
  },
  {
   "cell_type": "code",
   "execution_count": null,
   "metadata": {},
   "outputs": [],
   "source": [
    "电话号码=[]"
   ]
  },
  {
   "cell_type": "code",
   "execution_count": null,
   "metadata": {},
   "outputs": [],
   "source": [
    "fun (电话号码,'G23')"
   ]
  },
  {
   "cell_type": "code",
   "execution_count": null,
   "metadata": {},
   "outputs": [],
   "source": [
    "登记注册类型=[]"
   ]
  },
  {
   "cell_type": "code",
   "execution_count": null,
   "metadata": {},
   "outputs": [],
   "source": [
    "fun (登记注册类型,'C24')"
   ]
  },
  {
   "cell_type": "code",
   "execution_count": null,
   "metadata": {},
   "outputs": [],
   "source": [
    "受纳水体名称=[]"
   ]
  },
  {
   "cell_type": "code",
   "execution_count": null,
   "metadata": {},
   "outputs": [],
   "source": [
    "fun (受纳水体名称,'D25')"
   ]
  },
  {
   "cell_type": "code",
   "execution_count": null,
   "metadata": {},
   "outputs": [],
   "source": [
    "受纳水体代码=[]"
   ]
  },
  {
   "cell_type": "code",
   "execution_count": null,
   "metadata": {},
   "outputs": [],
   "source": [
    "fun (受纳水体代码,'G25')"
   ]
  },
  {
   "cell_type": "code",
   "execution_count": null,
   "metadata": {},
   "outputs": [],
   "source": [
    "是否发放新版排污许可证=[]"
   ]
  },
  {
   "cell_type": "code",
   "execution_count": null,
   "metadata": {},
   "outputs": [],
   "source": [
    "fun (是否发放新版排污许可证,'C26')"
   ]
  },
  {
   "cell_type": "code",
   "execution_count": null,
   "metadata": {},
   "outputs": [],
   "source": [
    "许可证编号=[]"
   ]
  },
  {
   "cell_type": "code",
   "execution_count": null,
   "metadata": {},
   "outputs": [],
   "source": [
    "fun (许可证编号,'G26')"
   ]
  },
  {
   "cell_type": "code",
   "execution_count": null,
   "metadata": {},
   "outputs": [],
   "source": [
    "企业运行状态=[]"
   ]
  },
  {
   "cell_type": "code",
   "execution_count": null,
   "metadata": {},
   "outputs": [],
   "source": [
    "fun (企业运行状态,'C27')"
   ]
  },
  {
   "cell_type": "code",
   "execution_count": null,
   "metadata": {},
   "outputs": [],
   "source": [
    "正常生产时间_小时_=[]"
   ]
  },
  {
   "cell_type": "code",
   "execution_count": null,
   "metadata": {},
   "outputs": [],
   "source": [
    "fun (正常生产时间_小时_,'C28')"
   ]
  },
  {
   "cell_type": "code",
   "execution_count": null,
   "metadata": {},
   "outputs": [],
   "source": [
    "xx=[]"
   ]
  },
  {
   "cell_type": "code",
   "execution_count": null,
   "metadata": {},
   "outputs": [],
   "source": [
    "fun (xx,'C29')"
   ]
  },
  {
   "cell_type": "code",
   "execution_count": null,
   "metadata": {},
   "outputs": [],
   "source": [
    "产生工业废水=[]"
   ]
  },
  {
   "cell_type": "code",
   "execution_count": null,
   "metadata": {},
   "outputs": [],
   "source": [
    "fun (产生工业废水,'C30')"
   ]
  },
  {
   "cell_type": "code",
   "execution_count": null,
   "metadata": {},
   "outputs": [],
   "source": [
    "有锅炉_燃气轮机=[]"
   ]
  },
  {
   "cell_type": "code",
   "execution_count": null,
   "metadata": {},
   "outputs": [],
   "source": [
    "fun (有锅炉_燃气轮机,'C31')"
   ]
  },
  {
   "cell_type": "code",
   "execution_count": null,
   "metadata": {},
   "outputs": [],
   "source": [
    "有工业炉窑=[] "
   ]
  },
  {
   "cell_type": "code",
   "execution_count": null,
   "metadata": {},
   "outputs": [],
   "source": [
    "fun (有工业炉窑 ,'C32')"
   ]
  },
  {
   "cell_type": "code",
   "execution_count": null,
   "metadata": {},
   "outputs": [],
   "source": [
    "有炼焦工序=[]"
   ]
  },
  {
   "cell_type": "code",
   "execution_count": null,
   "metadata": {},
   "outputs": [],
   "source": [
    "fun (有炼焦工序,'C33')"
   ]
  },
  {
   "cell_type": "code",
   "execution_count": null,
   "metadata": {},
   "outputs": [],
   "source": [
    "有烧结_球团工序=[]"
   ]
  },
  {
   "cell_type": "code",
   "execution_count": null,
   "metadata": {},
   "outputs": [],
   "source": [
    "fun (有烧结_球团工序,'C34')"
   ]
  },
  {
   "cell_type": "code",
   "execution_count": null,
   "metadata": {},
   "outputs": [],
   "source": [
    "有炼铁工序=[]"
   ]
  },
  {
   "cell_type": "code",
   "execution_count": null,
   "metadata": {},
   "outputs": [],
   "source": [
    "fun (有炼铁工序,'C35')"
   ]
  },
  {
   "cell_type": "code",
   "execution_count": null,
   "metadata": {},
   "outputs": [],
   "source": [
    "有炼钢工序=[]"
   ]
  },
  {
   "cell_type": "code",
   "execution_count": null,
   "metadata": {},
   "outputs": [],
   "source": [
    "fun (有炼钢工序 ,'C36')"
   ]
  },
  {
   "cell_type": "code",
   "execution_count": null,
   "metadata": {},
   "outputs": [],
   "source": [
    "有熟料生产=[]"
   ]
  },
  {
   "cell_type": "code",
   "execution_count": null,
   "metadata": {},
   "outputs": [],
   "source": [
    "fun (有熟料生产,'C37')"
   ]
  },
  {
   "cell_type": "code",
   "execution_count": null,
   "metadata": {},
   "outputs": [],
   "source": [
    "是否为石化企业=[]"
   ]
  },
  {
   "cell_type": "code",
   "execution_count": null,
   "metadata": {},
   "outputs": [],
   "source": [
    "fun (是否为石化企业,'C38')"
   ]
  },
  {
   "cell_type": "code",
   "execution_count": null,
   "metadata": {},
   "outputs": [],
   "source": [
    "有有机液体储罐_装载=[]"
   ]
  },
  {
   "cell_type": "code",
   "execution_count": null,
   "metadata": {},
   "outputs": [],
   "source": [
    "fun (有有机液体储罐_装载,'C39')"
   ]
  },
  {
   "cell_type": "code",
   "execution_count": null,
   "metadata": {},
   "outputs": [],
   "source": [
    "含挥发性有机物原辅材料使用=[]"
   ]
  },
  {
   "cell_type": "code",
   "execution_count": null,
   "metadata": {},
   "outputs": [],
   "source": [
    "fun (含挥发性有机物原辅材料使用,'C40')"
   ]
  },
  {
   "cell_type": "code",
   "execution_count": null,
   "metadata": {},
   "outputs": [],
   "source": [
    "有工业固体物料堆存=[]"
   ]
  },
  {
   "cell_type": "code",
   "execution_count": null,
   "metadata": {},
   "outputs": [],
   "source": [
    "fun (有工业固体物料堆存,'C41')"
   ]
  },
  {
   "cell_type": "code",
   "execution_count": null,
   "metadata": {},
   "outputs": [],
   "source": [
    "有其他生产废气=[]"
   ]
  },
  {
   "cell_type": "code",
   "execution_count": null,
   "metadata": {},
   "outputs": [],
   "source": [
    "fun (有其他生产废气,'C42')"
   ]
  },
  {
   "cell_type": "code",
   "execution_count": null,
   "metadata": {},
   "outputs": [],
   "source": [
    "一般工业固体废物=[]"
   ]
  },
  {
   "cell_type": "code",
   "execution_count": null,
   "metadata": {},
   "outputs": [],
   "source": [
    "fun (一般工业固体废物,'C43')"
   ]
  },
  {
   "cell_type": "code",
   "execution_count": null,
   "metadata": {},
   "outputs": [],
   "source": [
    "危险废物=[]"
   ]
  },
  {
   "cell_type": "code",
   "execution_count": null,
   "metadata": {},
   "outputs": [],
   "source": [
    "fun (危险废物,'C44')"
   ]
  },
  {
   "cell_type": "code",
   "execution_count": null,
   "metadata": {},
   "outputs": [],
   "source": [
    "涉及稀土等15类矿产=[]"
   ]
  },
  {
   "cell_type": "code",
   "execution_count": null,
   "metadata": {},
   "outputs": [],
   "source": [
    "fun (涉及稀土等15类矿产,'C45')"
   ]
  },
  {
   "cell_type": "code",
   "execution_count": null,
   "metadata": {},
   "outputs": [],
   "source": [
    "备注=[]"
   ]
  },
  {
   "cell_type": "code",
   "execution_count": null,
   "metadata": {},
   "outputs": [],
   "source": [
    "fun (备注,'C46')"
   ]
  },
  {
   "cell_type": "code",
   "execution_count": null,
   "metadata": {},
   "outputs": [],
   "source": [
    "单位负责人=[]"
   ]
  },
  {
   "cell_type": "code",
   "execution_count": null,
   "metadata": {},
   "outputs": [],
   "source": [
    "fun (单位负责人,'C47')"
   ]
  },
  {
   "cell_type": "code",
   "execution_count": null,
   "metadata": {},
   "outputs": [],
   "source": [
    "统计负责人_审核人_=[]"
   ]
  },
  {
   "cell_type": "code",
   "execution_count": null,
   "metadata": {},
   "outputs": [],
   "source": [
    "fun (统计负责人_审核人_,'E47')"
   ]
  },
  {
   "cell_type": "code",
   "execution_count": null,
   "metadata": {},
   "outputs": [],
   "source": [
    "填表人=[]"
   ]
  },
  {
   "cell_type": "code",
   "execution_count": null,
   "metadata": {},
   "outputs": [],
   "source": [
    "fun (填表人,'G47')"
   ]
  },
  {
   "cell_type": "code",
   "execution_count": null,
   "metadata": {},
   "outputs": [],
   "source": [
    "报出日期=[]"
   ]
  },
  {
   "cell_type": "code",
   "execution_count": null,
   "metadata": {},
   "outputs": [],
   "source": [
    "fun (报出日期,'I47')"
   ]
  },
  {
   "cell_type": "markdown",
   "metadata": {},
   "source": [
    "# put data to the dataframe"
   ]
  },
  {
   "cell_type": "code",
   "execution_count": null,
   "metadata": {},
   "outputs": [],
   "source": [
    "finaldf_100 ={'单位详细名称':单位详细名称,'县_区市旗_':县_区市旗_,'乡_镇_ 街_村_门牌号':乡_镇_街_村_门牌号,'统一社会信用代码':统一社会信用代码,'普查小区代码':普查小区代码,'尚未领取统一社会信用代码的填写原组织机构代码号':尚未领取统一社会信用代码的填写原组织机构代码号,'曾用名':曾用名,\n",
    "             '行业名称1':行业名称1,'行业代码1':行业代码1,'区划代码':区划代码,'经度_度':经度_度,'经度_分':经度_分,'经度_秒':经度_秒,'纬度_度':纬度_度,\n",
    "              '纬度_分':纬度_分,'纬度_秒':纬度_秒,'是否发放新版排污许可证':是否发放新版排污许可证,'产生工业废水':产生工业废水,'工业总产值_当年价格__千元_':xx,\n",
    "             '正 常生产时间_小时_':正常生产时间_小时_,'企业运行状态':企业运行状态,'许可证编号':许可证编号,'有锅炉_燃气轮机':有锅炉_燃气轮机,'有工业炉窑':有工业炉窑,'有炼焦工序':有炼焦工序,'有烧结_球团工序':有烧结_球团工序,\n",
    "             '有炼铁工序':有炼铁工序,'有炼钢工序':有炼钢工序,'有熟料生产':有熟料生产,'是否为石化企业':是否为石化企业,'有有机液体储罐_装载':有有机液体储罐_装载,'含挥发性有机物原辅材料使用':含挥发性有机物原辅材料使用,\n",
    "              '有工业固体物料堆存':有工业固体物料堆存,'有其他生产废气':有其他生产废气,'危险废物':危险废物,'一般工业固体废物':一般工业固体废物,'涉及稀土等15类矿产':涉及稀土等15类矿产,'备注':备注,'单位负责人':单位负责人,'统计负责人_审核人_':统计负责人_审核人_,\n",
    "             '填表人':填表人,'报出日期':报出日期,'企业规模':企业规模,'法定代表人（单位负责人）':z,'开业（成立）时间_年':y,'开业（成立）时间_月':m,'联系人':联系人,'电话号码':电话号码,'登记注册类型':登记注册类型,'受纳水体名称':受纳水体名称,\n",
    "             '受纳水体代码':受纳水体代码}"
   ]
  },
  {
   "cell_type": "code",
   "execution_count": null,
   "metadata": {},
   "outputs": [],
   "source": []
  },
  {
   "cell_type": "code",
   "execution_count": null,
   "metadata": {},
   "outputs": [],
   "source": [
    "f_100=DataFrame(finaldf_100)"
   ]
  },
  {
   "cell_type": "code",
   "execution_count": null,
   "metadata": {},
   "outputs": [],
   "source": [
    "f_100.to_csv('E:/cleandata/900-1000.csv',encoding='utf-8-sig')"
   ]
  },
  {
   "cell_type": "code",
   "execution_count": null,
   "metadata": {},
   "outputs": [],
   "source": [
    "df_100.head()"
   ]
  },
  {
   "cell_type": "code",
   "execution_count": null,
   "metadata": {},
   "outputs": [],
   "source": [
    ",\n",
    "             '正常生产时间_小时_':正常生产时间_小时_,'企业运行状态':企业运行状态,'许可证编号':许可证编号,'有锅炉_燃气轮机':有锅炉_燃气轮机,'有工业炉窑':有工业炉窑,'有炼焦工序':有炼焦工序,'有烧结_球团工序':有烧结_球团工序,\n",
    "             '有炼铁工序':有炼铁工序,'有炼钢工序':有炼钢工序,'有熟料生产':有熟料生产,'是否为石化企业':是否为石化企业,'有有机液体储罐_装载':有有机液体储罐_装载,'含挥发性有机物原辅材料使用':含挥发性有机物原辅材料使用,\n",
    "              '有工业固体物料堆存':有工业固体物料堆存,'有其他生产废气':有其他生产废气,'危险废物':危险废物,'一般工业固体废物':一般工业固体废物,'涉及稀土等15类矿产':涉及稀土等15类矿产,'备注':备注,'单位负责人':单位负责人,'统计负责人_审核人_':统计负责人_审核人_,\n",
    "             '填表人':填表人,'报出日期':报出日期,'企业规模':企业规模,'法定代表人（单位负责人）':z,'开业（成立）时间_年':y,'开业（成立）时间_月':m,'联系人':联系人,'电话号码':电话号码,'登记注册类型':登记注册类型,'受纳水体名称':受纳水体名称,\n",
    "             '受纳水体代码':受纳水体代码"
   ]
  },
  {
   "cell_type": "code",
   "execution_count": null,
   "metadata": {},
   "outputs": [],
   "source": [
    "c=[]\n",
    "for i in range(len(a)):\n",
    "    s[i]=load_workbook(filename=a[i])\n",
    "    c.append(i)\n",
    "    c[i]=s[i][s[i].sheetnames[0]]['C6'].value"
   ]
  },
  {
   "cell_type": "code",
   "execution_count": null,
   "metadata": {},
   "outputs": [],
   "source": [
    "c[10]"
   ]
  },
  {
   "cell_type": "code",
   "execution_count": null,
   "metadata": {},
   "outputs": [],
   "source": [
    "for i in range (len(a)):\n",
    "     c[i]=s[i][s[i].sheetnames[0]]"
   ]
  },
  {
   "cell_type": "code",
   "execution_count": null,
   "metadata": {},
   "outputs": [],
   "source": [
    "普查小区代码=[]\n",
    "for i in range(len(a)):\n",
    "    普查小区代码.append(i)\n",
    "    普查小区代码[i] = c[i]['C6'].value"
   ]
  },
  {
   "cell_type": "code",
   "execution_count": null,
   "metadata": {},
   "outputs": [],
   "source": [
    "普查小区代码[10]"
   ]
  },
  {
   "cell_type": "code",
   "execution_count": null,
   "metadata": {},
   "outputs": [],
   "source": [
    "cell=[]\n",
    "dd=[]\n",
    "dudu=[]\n",
    "for i in range(0,20):\n",
    "    cell.append(i)\n",
    "    dd.append(i)\n",
    "    dudu.append(i)"
   ]
  },
  {
   "cell_type": "code",
   "execution_count": null,
   "metadata": {},
   "outputs": [],
   "source": [
    "for i in range(0,20):\n",
    "    dd[i]=cell[i].value"
   ]
  },
  {
   "cell_type": "code",
   "execution_count": null,
   "metadata": {},
   "outputs": [],
   "source": [
    "print(sheet)"
   ]
  },
  {
   "cell_type": "code",
   "execution_count": null,
   "metadata": {},
   "outputs": [],
   "source": [
    "print(type(c[1]))"
   ]
  },
  {
   "cell_type": "code",
   "execution_count": null,
   "metadata": {},
   "outputs": [],
   "source": [
    "print(c)"
   ]
  },
  {
   "cell_type": "code",
   "execution_count": null,
   "metadata": {},
   "outputs": [],
   "source": [
    "sheet = s[0].active"
   ]
  },
  {
   "cell_type": "code",
   "execution_count": null,
   "metadata": {},
   "outputs": [],
   "source": [
    "print(type(sheet))"
   ]
  },
  {
   "cell_type": "code",
   "execution_count": null,
   "metadata": {},
   "outputs": [],
   "source": [
    "import itertools\n"
   ]
  },
  {
   "cell_type": "code",
   "execution_count": null,
   "metadata": {},
   "outputs": [],
   "source": [
    "df = DataFrame(sheet.values)"
   ]
  },
  {
   "cell_type": "code",
   "execution_count": null,
   "metadata": {},
   "outputs": [],
   "source": [
    "data = sheet.values\n",
    "cols = next(data)[1:]\n",
    "data = list(data)\n",
    "idx = [r[0] for r in data]\n",
    "data = (itertools.islice(r, 1, None) for r in data)\n",
    "df = DataFrame(data, index=idx, columns=cols)"
   ]
  },
  {
   "cell_type": "code",
   "execution_count": null,
   "metadata": {},
   "outputs": [],
   "source": [
    "df.head(20)"
   ]
  },
  {
   "cell_type": "code",
   "execution_count": null,
   "metadata": {},
   "outputs": [],
   "source": [
    " c[i]=s[i][workbook.sheetnames[0]]\n",
    "    cell.append(c[i]['C7'].value)"
   ]
  },
  {
   "cell_type": "code",
   "execution_count": null,
   "metadata": {},
   "outputs": [],
   "source": [
    "sheet = workbook[workbook.sheetnames[0]]"
   ]
  },
  {
   "cell_type": "code",
   "execution_count": null,
   "metadata": {},
   "outputs": [],
   "source": [
    "workbook = load_workbook(filename=result[1])"
   ]
  },
  {
   "cell_type": "code",
   "execution_count": null,
   "metadata": {},
   "outputs": [],
   "source": [
    "print(type(workbook))"
   ]
  },
  {
   "cell_type": "code",
   "execution_count": null,
   "metadata": {},
   "outputs": [],
   "source": [
    "print(workbook.sheetnames)"
   ]
  },
  {
   "cell_type": "code",
   "execution_count": null,
   "metadata": {},
   "outputs": [],
   "source": [
    "sheet = workbook[workbook.sheetnames[0]]"
   ]
  },
  {
   "cell_type": "code",
   "execution_count": null,
   "metadata": {},
   "outputs": [],
   "source": [
    "cell = sheet['C7']\n",
    "print(cell.value)"
   ]
  },
  {
   "cell_type": "code",
   "execution_count": null,
   "metadata": {},
   "outputs": [],
   "source": [
    "workbook=[]\n",
    "sheet=[]\n",
    "cell=[]\n",
    "for i in range(len(result)):\n",
    "    workbook.append(i)\n",
    "    sheet.append(i)\n",
    "    cell.append(i)"
   ]
  },
  {
   "cell_type": "code",
   "execution_count": null,
   "metadata": {},
   "outputs": [],
   "source": [
    "print(len(result),len(a))"
   ]
  },
  {
   "cell_type": "code",
   "execution_count": null,
   "metadata": {},
   "outputs": [],
   "source": [
    "import  pandas  as pd\n",
    "from pandas import DataFrame\n",
    "from pandas import Series,concat"
   ]
  },
  {
   "cell_type": "code",
   "execution_count": null,
   "metadata": {},
   "outputs": [],
   "source": [
    "data_1 = pd.read_excel('E:/宁夏二污普/最新数据/二污普导出数据/普查报表/银川市工业源报表-2743\\兴庆区-175\\其他-41\\宁夏鹰击长空新能源公司.xlsx',index_col=0)"
   ]
  },
  {
   "cell_type": "code",
   "execution_count": null,
   "metadata": {},
   "outputs": [],
   "source": [
    "data_1.head()"
   ]
  },
  {
   "cell_type": "code",
   "execution_count": null,
   "metadata": {},
   "outputs": [],
   "source": []
  },
  {
   "cell_type": "code",
   "execution_count": null,
   "metadata": {},
   "outputs": [],
   "source": [
    "    file_path=[]\n",
    "    for file in os.walk(\"E:/宁夏二污普/最新数据/二污普导出数据/普查报表/银川市工业源报表-2743\"):\n",
    "        for each_list in file[2]:\n",
    "            file_path=file[0]+\"/\"+each_list\n",
    "            #os.walk()函数返回三个参数：路径，子文件夹，路径下的文件，利用字符串拼接file[0]和file[2]得到文件的路径\n",
    "            name.insert(0,file_path)"
   ]
  },
  {
   "cell_type": "code",
   "execution_count": null,
   "metadata": {},
   "outputs": [],
   "source": [
    "def read_xls(path,type2):\n",
    "    #遍历路径文件夹\n",
    "    for file in os.walk(path):\n",
    "        for each_list in file[2]:\n",
    "            file_path=file[0]+\"/\"+each_list\n",
    "            #os.walk()函数返回三个参数：路径，子文件夹，路径下的文件，利用字符串拼接file[0]和file[2]得到文件的路径\n",
    "            name.insert(0,file_path)\n",
    "        all_xls = collect_xls(name, type2)\n",
    "            #遍历所有type文件路径并读取数据\n",
    "    for evey_name in all_xls:\n",
    "        xls_data = xlrd.open_workbook(evey_name)\n",
    "        for each_sheet in xls_data.sheets():\n",
    "            sheet_data=test_wy.excel_table_byname(evey_name,0,each_sheet.name)\n",
    "            #请参考读取excel文件的代码\n",
    "            raw_data.insert(0, sheet_data)\n",
    "            print(each_sheet.name,\":Data has been done.\")\n",
    "    return raw_data"
   ]
  },
  {
   "cell_type": "code",
   "execution_count": null,
   "metadata": {},
   "outputs": [],
   "source": [
    "xpath=\"E:/宁夏二污普/最新数据/二污普导出数据/普查报表/银川市工业源报表-2743\"\n",
    "xtype=\"xlsx\""
   ]
  },
  {
   "cell_type": "code",
   "execution_count": null,
   "metadata": {},
   "outputs": [],
   "source": [
    "read_xls(xpath,xtype)"
   ]
  },
  {
   "cell_type": "code",
   "execution_count": null,
   "metadata": {},
   "outputs": [],
   "source": [
    "print(file_path)"
   ]
  },
  {
   "cell_type": "code",
   "execution_count": null,
   "metadata": {},
   "outputs": [],
   "source": [
    "workbook = load_workbook(filename='E:/宁夏二污普/最新数据/二污普导出数据/普查报表/银川市工业源报表-2743/经开区-327/运行、停产、关闭-305/宁夏康亚药业股份有限公司.xlsx')"
   ]
  },
  {
   "cell_type": "code",
   "execution_count": null,
   "metadata": {},
   "outputs": [],
   "source": [
    "print(workbook.sheetnames)"
   ]
  },
  {
   "cell_type": "code",
   "execution_count": null,
   "metadata": {},
   "outputs": [],
   "source": [
    "sheet = workbook[workbook.sheetnames[0]]"
   ]
  },
  {
   "cell_type": "code",
   "execution_count": null,
   "metadata": {},
   "outputs": [],
   "source": [
    "print(sheet.dimensions) "
   ]
  },
  {
   "cell_type": "code",
   "execution_count": null,
   "metadata": {},
   "outputs": [],
   "source": [
    "cell = sheet['C7']\n",
    "print(cell.value)"
   ]
  },
  {
   "cell_type": "code",
   "execution_count": null,
   "metadata": {},
   "outputs": [],
   "source": [
    "data= pd.read_excel('E:/宁夏二污普/最新数据/二污普导出数据/普查报表/银川市工业源报表-2743/经开区-327/运行、停产、关闭-305/宁夏康亚药业股份有限公司.xlsx',index_col=0)"
   ]
  },
  {
   "cell_type": "code",
   "execution_count": null,
   "metadata": {},
   "outputs": [],
   "source": [
    "f=[]\n",
    "for i in reviews:\n",
    "    for e in i:\n",
    "        f.append(e)"
   ]
  }
 ],
 "metadata": {
  "kernelspec": {
   "display_name": "Python 3",
   "language": "python",
   "name": "python3"
  },
  "language_info": {
   "codemirror_mode": {
    "name": "ipython",
    "version": 3
   },
   "file_extension": ".py",
   "mimetype": "text/x-python",
   "name": "python",
   "nbconvert_exporter": "python",
   "pygments_lexer": "ipython3",
   "version": "3.8.5"
  }
 },
 "nbformat": 4,
 "nbformat_minor": 4
}
